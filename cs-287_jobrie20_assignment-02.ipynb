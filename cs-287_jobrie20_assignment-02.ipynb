{
 "cells": [
  {
   "cell_type": "code",
   "execution_count": 1,
   "metadata": {
    "deletable": false,
    "editable": false,
    "ExecuteTime": {
     "end_time": "2024-01-24T23:56:58.855591Z",
     "start_time": "2024-01-24T23:56:58.406620Z"
    }
   },
   "outputs": [],
   "source": [
    "# Initialize Otter\n",
    "import otter\n",
    "grader = otter.Notebook(\"cs-287_jobrie20_assignment-02.ipynb\")"
   ]
  },
  {
   "cell_type": "markdown",
   "metadata": {},
   "source": [
    "# ASSIGNMENT 2: Running and Autograding a Jupyter Notebook\n",
    "\n",
    "Welcome to your first programming assignment!  If you have gotten this far, you're already almost done -- congrats and well done!  \n",
    "\n",
    "In this assignment we'll just be familiariing ourselves with the structure of working with jupyter notebooks, and our autograder (otter-grader).  To install otter-grader through pip, simply run: <code>pip install otter-grader</code> from your terminal.  "
   ]
  },
  {
   "cell_type": "markdown",
   "metadata": {},
   "source": [
    "**Using the Notebook**\n",
    "\n",
    "Step through the blocks in this notebook (using the *Run* button above, or the *Shift + Enter* shortcut), filling in the missing snipets of code that you encounter (denoted by `...` in the code blocks) or text response questions (Typically *italicized* markdown text blocks with instructions to fill them in).  \n",
    "\n",
    "It is also highly encouraged that you run the full notebook from a clean slate before submitting to make sure that any instances where you have ommitted or re-run blocks of code while completing the assignment did not accidentally change any of your answers (which is **very** easy to do).  This can be found in the *Kernel -> Restart & Run All* dropdown menu above.  "
   ]
  },
  {
   "cell_type": "markdown",
   "metadata": {},
   "source": [
    "**Submission Format**\n",
    "\n",
    "'When you are finished, be sure all changes are saved in your notebook (i.e. don't always rely on autosave -- this goes for saving while working too!), and upload the **.ipynb** file to Blackboard.  When submitting this assignment (and all future ones), **please change the '[netid]' tag in the file name to your actual netid**, and keep the rest of the filename the same (i.e. please just leave \"cs\" even if you're enrolled in the STAT or CSYS crosslistings).  For example, my netid is 'ncheney', so I would upload a file named 'cs-287_ncheney_assignment-02.ipynb' to Blackboard to submit this assignment.  Incorrect submission formatting may result in your assignment not being properly graded.  "
   ]
  },
  {
   "cell_type": "markdown",
   "metadata": {},
   "source": [
    "**Collaboration Policy**\n",
    "\n",
    "Data science is a collaborative activity. While you may talk with others about\n",
    "the homework, we ask that you **write your solutions individually**. If you do\n",
    "discuss the assignments with others please **include their names** below."
   ]
  },
  {
   "cell_type": "code",
   "execution_count": 5,
   "metadata": {
    "ExecuteTime": {
     "end_time": "2024-01-24T23:36:01.647518Z",
     "start_time": "2024-01-24T23:36:01.645286Z"
    }
   },
   "outputs": [],
   "source": [
    "import pandas as pd\n",
    "import numpy as np\n",
    "import matplotlib.pyplot as plt\n",
    "%matplotlib inline"
   ]
  },
  {
   "cell_type": "markdown",
   "metadata": {
    "deletable": false,
    "editable": false
   },
   "source": [
    "**Question 1 (1 point):** Assign the value 3 to the variable `x`.  \n",
    "\n",
    "This question is meant to test that the autograder is working, and can tell you whether you've supplied the correct answer."
   ]
  },
  {
   "cell_type": "code",
   "execution_count": 6,
   "metadata": {
    "scrolled": true,
    "tags": [],
    "ExecuteTime": {
     "end_time": "2024-01-24T23:36:16.459394Z",
     "start_time": "2024-01-24T23:36:16.453247Z"
    }
   },
   "outputs": [
    {
     "name": "stdout",
     "output_type": "stream",
     "text": [
      "3\n"
     ]
    }
   ],
   "source": [
    "x = 3\n",
    "print(x)"
   ]
  },
  {
   "cell_type": "code",
   "execution_count": 7,
   "metadata": {
    "deletable": false,
    "editable": false,
    "ExecuteTime": {
     "end_time": "2024-01-24T23:36:19.666035Z",
     "start_time": "2024-01-24T23:36:19.547801Z"
    }
   },
   "outputs": [
    {
     "data": {
      "text/plain": "q1 results: All test cases passed!",
      "text/html": "<p><strong><pre style='display: inline;'>q1</pre></strong> passed! 🍀</p>"
     },
     "execution_count": 7,
     "metadata": {},
     "output_type": "execute_result"
    }
   ],
   "source": [
    "grader.check(\"q1\")"
   ]
  },
  {
   "cell_type": "markdown",
   "metadata": {
    "deletable": false,
    "editable": false
   },
   "source": [
    "**Question 2 (2 points):** Assign the value 42 to the variable `life`. \n",
    "\n",
    "In this question, the autograder has been told only to check if your answer is the correct data type (`int`) and within a viable range (`0 < x < 100`).  (Note: you can get an idea of what test are run via the test/q2.py file, or simply via the feedback you get here for incorrect answers).  Whether you've supplied the correct answer (`42`) or not will only be graded after you've submitted the assignment.  \n",
    "\n",
    "In practice we'll use a mix of both visable grading (for both feedback for you, and assessement of learning for us) and post-submission grading (for just assessment).  "
   ]
  },
  {
   "cell_type": "code",
   "execution_count": 8,
   "metadata": {
    "scrolled": true,
    "tags": [],
    "ExecuteTime": {
     "end_time": "2024-01-24T23:36:52.027164Z",
     "start_time": "2024-01-24T23:36:52.024080Z"
    }
   },
   "outputs": [
    {
     "name": "stdout",
     "output_type": "stream",
     "text": [
      "42\n"
     ]
    }
   ],
   "source": [
    "life = 42\n",
    "print(life)"
   ]
  },
  {
   "cell_type": "code",
   "execution_count": 9,
   "metadata": {
    "deletable": false,
    "editable": false,
    "ExecuteTime": {
     "end_time": "2024-01-24T23:36:55.174890Z",
     "start_time": "2024-01-24T23:36:55.164484Z"
    }
   },
   "outputs": [
    {
     "data": {
      "text/plain": "q2 results: All test cases passed!",
      "text/html": "<p><strong><pre style='display: inline;'>q2</pre></strong> passed! 🙌</p>"
     },
     "execution_count": 9,
     "metadata": {},
     "output_type": "execute_result"
    }
   ],
   "source": [
    "grader.check(\"q2\")"
   ]
  },
  {
   "cell_type": "markdown",
   "metadata": {
    "deletable": false,
    "editable": false
   },
   "source": [
    "**Question 3 (2 points):** Define a function that adds 1 to the input variable\n",
    "\n",
    "This question is simply to show that tests may be graded based on the output of a function or program.  Here we have one use case given as a visable test, with another use case (e.g. a different input to the funciton) as a hidden test."
   ]
  },
  {
   "cell_type": "code",
   "execution_count": 19,
   "metadata": {
    "tags": [],
    "ExecuteTime": {
     "end_time": "2024-01-24T23:53:26.023105Z",
     "start_time": "2024-01-24T23:53:26.003886Z"
    }
   },
   "outputs": [
    {
     "name": "stdout",
     "output_type": "stream",
     "text": [
      "4 + 1 = 5\n"
     ]
    }
   ],
   "source": [
    "def add_one(input):\n",
    "    input += 1\n",
    "    return input\n",
    "\n",
    "print('4 + 1 =',add_one(4))"
   ]
  },
  {
   "cell_type": "code",
   "execution_count": 20,
   "metadata": {
    "deletable": false,
    "editable": false,
    "ExecuteTime": {
     "end_time": "2024-01-24T23:53:29.433681Z",
     "start_time": "2024-01-24T23:53:29.421754Z"
    }
   },
   "outputs": [
    {
     "data": {
      "text/plain": "q3 results: All test cases passed!",
      "text/html": "<p><strong><pre style='display: inline;'>q3</pre></strong> passed! 🌟</p>"
     },
     "execution_count": 20,
     "metadata": {},
     "output_type": "execute_result"
    }
   ],
   "source": [
    "grader.check(\"q3\")"
   ]
  },
  {
   "cell_type": "markdown",
   "metadata": {
    "deletable": false,
    "editable": false
   },
   "source": [
    "<!-- BEGIN QUESTION -->\n",
    "\n",
    "**Question 4 (1 point):** Show a scatterplot of x and y.\n",
    "\n",
    "As nice as autograders are for real-time feedback, and rapid grading, they have their limits.  This is an aexample of a question that is not autograded, but instead will be manually inspected and graded.  "
   ]
  },
  {
   "cell_type": "code",
   "execution_count": 16,
   "metadata": {
    "tags": [],
    "ExecuteTime": {
     "end_time": "2024-01-24T23:45:08.323863Z",
     "start_time": "2024-01-24T23:45:08.236060Z"
    }
   },
   "outputs": [
    {
     "data": {
      "text/plain": "<matplotlib.collections.PathCollection at 0x142468910>"
     },
     "execution_count": 16,
     "metadata": {},
     "output_type": "execute_result"
    },
    {
     "data": {
      "text/plain": "<Figure size 640x480 with 1 Axes>",
      "image/png": "[encoded data removed]"
     },
     "metadata": {},
     "output_type": "display_data"
    }
   ],
   "source": [
    "# generate random data\n",
    "num_data_points = 10\n",
    "x_data = np.random.rand(num_data_points)\n",
    "y_data = np.random.rand(num_data_points)\n",
    "\n",
    "# plot with matplotlib:\n",
    "plt.scatter(x_data, y_data)\n",
    "# hint: see syntax for plotting by running the line below: \n",
    "# plt.scatter?\n",
    "# hint: or see the documentation page: \n",
    "# https://matplotlib.org/3.3.1/api/_as_gen/matplotlib.pyplot.scatter.html"
   ]
  },
  {
   "cell_type": "markdown",
   "metadata": {
    "deletable": false,
    "editable": false
   },
   "source": [
    "<!-- END QUESTION -->\n",
    "\n",
    "<!-- BEGIN QUESTION -->\n",
    "\n",
    "**Question 5 (1 point):** In the prompt below, write the following statement: `I will always complete my assignments to the best of my ability, in a timely fashion, and with academic integrity.`\n",
    "\n",
    "Free test responses are another type of manually graded question that you may be asked to answer, where we want to hear your thoughts (and thought process) about a topic.  To do this simply replace the text in the following block with your response.  "
   ]
  },
  {
   "cell_type": "markdown",
   "metadata": {},
   "source": [
    "I will always complete my assignments to the best of my ability, in a timely fashion, and with academic integrity."
   ]
  },
  {
   "cell_type": "markdown",
   "metadata": {
    "deletable": false,
    "editable": false
   },
   "source": [
    "<!-- END QUESTION -->\n",
    "\n",
    "### Congratulations, you made it to the end!\n",
    "Nice work -- and hopefully you've figured out how the autograder works and how to make the most of it!"
   ]
  },
  {
   "cell_type": "markdown",
   "metadata": {},
   "source": [
    "To double-check your work, the cell below will rerun all of the autograder tests."
   ]
  },
  {
   "cell_type": "code",
   "execution_count": 21,
   "metadata": {
    "ExecuteTime": {
     "end_time": "2024-01-24T23:53:40.355186Z",
     "start_time": "2024-01-24T23:53:40.341499Z"
    }
   },
   "outputs": [
    {
     "data": {
      "text/plain": "q1 results: All test cases passed!\n\nq2 results: All test cases passed!\n\nq3 results: All test cases passed!"
     },
     "execution_count": 21,
     "metadata": {},
     "output_type": "execute_result"
    }
   ],
   "source": [
    "grader.check_all()"
   ]
  },
  {
   "cell_type": "markdown",
   "metadata": {},
   "source": [
    "Please save this file as a .ipynb, and also download it as a .pdf, uploading **both** to blackboard to complete this assignment.  \n",
    "\n",
    "Again, please make sure that you have renamed this file (and that the resulting pdf follows suit) to replce `[netid]` with your UVM netid.  This will greatly simplify our grading pipeline, and make sure that you receive credit for your work.  "
   ]
  },
  {
   "cell_type": "markdown",
   "metadata": {},
   "source": [
    "#### Academic Integrity Attribution\n",
    "During this assignment I collaborated with:"
   ]
  },
  {
   "cell_type": "markdown",
   "metadata": {},
   "source": [
    "**insert text here**"
   ]
  },
  {
   "cell_type": "code",
   "outputs": [],
   "source": [],
   "metadata": {
    "collapsed": false
   }
  }
 ],
 "metadata": {
  "kernelspec": {
   "display_name": "Python 3 (ipykernel)",
   "language": "python",
   "name": "python3"
  },
  "language_info": {
   "codemirror_mode": {
    "name": "ipython",
    "version": 3
   },
   "file_extension": ".py",
   "mimetype": "text/x-python",
   "name": "python",
   "nbconvert_exporter": "python",
   "pygments_lexer": "ipython3",
   "version": "3.11.4"
  },
  "otter": {
   "OK_FORMAT": true,
   "tests": {
    "q1": {
     "name": "q1",
     "points": 1,
     "suites": [
      {
       "cases": [
        {
         "code": ">>> x == 3\nTrue",
         "hidden": false,
         "locked": false
        },
        {
         "code": ">>> x != None\nTrue",
         "hidden": false,
         "locked": false
        }
       ],
       "scored": true,
       "setup": "",
       "teardown": "",
       "type": "doctest"
      }
     ]
    },
    "q2": {
     "name": "q2",
     "points": 2,
     "suites": [
      {
       "cases": [
        {
         "code": ">>> isinstance(life, int)\nTrue",
         "hidden": false,
         "locked": false
        },
        {
         "code": ">>> life > 0 and life < 100\nTrue",
         "hidden": false,
         "locked": false
        }
       ],
       "scored": true,
       "setup": "",
       "teardown": "",
       "type": "doctest"
      }
     ]
    },
    "q3": {
     "name": "q3",
     "points": 2,
     "suites": [
      {
       "cases": [
        {
         "code": ">>> add_one(4) == 5\nTrue",
         "hidden": false,
         "locked": false
        }
       ],
       "scored": true,
       "setup": "",
       "teardown": "",
       "type": "doctest"
      }
     ]
    }
   }
  }
 },
 "nbformat": 4,
 "nbformat_minor": 4
}
